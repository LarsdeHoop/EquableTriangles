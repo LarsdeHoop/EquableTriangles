{
  "nbformat": 4,
  "nbformat_minor": 0,
  "metadata": {
    "colab": {
      "provenance": [],
      "collapsed_sections": [
        "uvDRY2xRwFh_"
      ]
    },
    "kernelspec": {
      "name": "python3",
      "display_name": "Python 3"
    },
    "language_info": {
      "name": "python"
    },
    "widgets": {
      "application/vnd.jupyter.widget-state+json": {
        "096019e572c34458913765bf2c04e3ce": {
          "model_module": "@jupyter-widgets/controls",
          "model_name": "HBoxModel",
          "model_module_version": "1.5.0",
          "state": {
            "_dom_classes": [],
            "_model_module": "@jupyter-widgets/controls",
            "_model_module_version": "1.5.0",
            "_model_name": "HBoxModel",
            "_view_count": null,
            "_view_module": "@jupyter-widgets/controls",
            "_view_module_version": "1.5.0",
            "_view_name": "HBoxView",
            "box_style": "",
            "children": [
              "IPY_MODEL_2d6dc413b2e54139af4ede9b24ce052e",
              "IPY_MODEL_e1f0e3d5ffc04eba839f9966e7b02696",
              "IPY_MODEL_f836b13f809a432ea38e3deac7bd6293"
            ],
            "layout": "IPY_MODEL_2d297708260d483c888181def6ef4fae"
          }
        },
        "2d6dc413b2e54139af4ede9b24ce052e": {
          "model_module": "@jupyter-widgets/controls",
          "model_name": "HTMLModel",
          "model_module_version": "1.5.0",
          "state": {
            "_dom_classes": [],
            "_model_module": "@jupyter-widgets/controls",
            "_model_module_version": "1.5.0",
            "_model_name": "HTMLModel",
            "_view_count": null,
            "_view_module": "@jupyter-widgets/controls",
            "_view_module_version": "1.5.0",
            "_view_name": "HTMLView",
            "description": "",
            "description_tooltip": null,
            "layout": "IPY_MODEL_250d6cb5356b4bed9a623fcb7764da77",
            "placeholder": "​",
            "style": "IPY_MODEL_67999e25b5ab4724a671e1e93492d73a",
            "value": "100%"
          }
        },
        "e1f0e3d5ffc04eba839f9966e7b02696": {
          "model_module": "@jupyter-widgets/controls",
          "model_name": "FloatProgressModel",
          "model_module_version": "1.5.0",
          "state": {
            "_dom_classes": [],
            "_model_module": "@jupyter-widgets/controls",
            "_model_module_version": "1.5.0",
            "_model_name": "FloatProgressModel",
            "_view_count": null,
            "_view_module": "@jupyter-widgets/controls",
            "_view_module_version": "1.5.0",
            "_view_name": "ProgressView",
            "bar_style": "success",
            "description": "",
            "description_tooltip": null,
            "layout": "IPY_MODEL_e0a8f4f2e852437aa39eb30b096c167c",
            "max": 99,
            "min": 0,
            "orientation": "horizontal",
            "style": "IPY_MODEL_2d6bcdeee08d4a7ba854495764ad99f7",
            "value": 99
          }
        },
        "f836b13f809a432ea38e3deac7bd6293": {
          "model_module": "@jupyter-widgets/controls",
          "model_name": "HTMLModel",
          "model_module_version": "1.5.0",
          "state": {
            "_dom_classes": [],
            "_model_module": "@jupyter-widgets/controls",
            "_model_module_version": "1.5.0",
            "_model_name": "HTMLModel",
            "_view_count": null,
            "_view_module": "@jupyter-widgets/controls",
            "_view_module_version": "1.5.0",
            "_view_name": "HTMLView",
            "description": "",
            "description_tooltip": null,
            "layout": "IPY_MODEL_c81deb539a7346b28c89eafdd4f92545",
            "placeholder": "​",
            "style": "IPY_MODEL_7ee8402392c24c998b919ab1c4620157",
            "value": " 99/99 [00:00&lt;00:00, 4508.83it/s]"
          }
        },
        "2d297708260d483c888181def6ef4fae": {
          "model_module": "@jupyter-widgets/base",
          "model_name": "LayoutModel",
          "model_module_version": "1.2.0",
          "state": {
            "_model_module": "@jupyter-widgets/base",
            "_model_module_version": "1.2.0",
            "_model_name": "LayoutModel",
            "_view_count": null,
            "_view_module": "@jupyter-widgets/base",
            "_view_module_version": "1.2.0",
            "_view_name": "LayoutView",
            "align_content": null,
            "align_items": null,
            "align_self": null,
            "border": null,
            "bottom": null,
            "display": null,
            "flex": null,
            "flex_flow": null,
            "grid_area": null,
            "grid_auto_columns": null,
            "grid_auto_flow": null,
            "grid_auto_rows": null,
            "grid_column": null,
            "grid_gap": null,
            "grid_row": null,
            "grid_template_areas": null,
            "grid_template_columns": null,
            "grid_template_rows": null,
            "height": null,
            "justify_content": null,
            "justify_items": null,
            "left": null,
            "margin": null,
            "max_height": null,
            "max_width": null,
            "min_height": null,
            "min_width": null,
            "object_fit": null,
            "object_position": null,
            "order": null,
            "overflow": null,
            "overflow_x": null,
            "overflow_y": null,
            "padding": null,
            "right": null,
            "top": null,
            "visibility": null,
            "width": null
          }
        },
        "250d6cb5356b4bed9a623fcb7764da77": {
          "model_module": "@jupyter-widgets/base",
          "model_name": "LayoutModel",
          "model_module_version": "1.2.0",
          "state": {
            "_model_module": "@jupyter-widgets/base",
            "_model_module_version": "1.2.0",
            "_model_name": "LayoutModel",
            "_view_count": null,
            "_view_module": "@jupyter-widgets/base",
            "_view_module_version": "1.2.0",
            "_view_name": "LayoutView",
            "align_content": null,
            "align_items": null,
            "align_self": null,
            "border": null,
            "bottom": null,
            "display": null,
            "flex": null,
            "flex_flow": null,
            "grid_area": null,
            "grid_auto_columns": null,
            "grid_auto_flow": null,
            "grid_auto_rows": null,
            "grid_column": null,
            "grid_gap": null,
            "grid_row": null,
            "grid_template_areas": null,
            "grid_template_columns": null,
            "grid_template_rows": null,
            "height": null,
            "justify_content": null,
            "justify_items": null,
            "left": null,
            "margin": null,
            "max_height": null,
            "max_width": null,
            "min_height": null,
            "min_width": null,
            "object_fit": null,
            "object_position": null,
            "order": null,
            "overflow": null,
            "overflow_x": null,
            "overflow_y": null,
            "padding": null,
            "right": null,
            "top": null,
            "visibility": null,
            "width": null
          }
        },
        "67999e25b5ab4724a671e1e93492d73a": {
          "model_module": "@jupyter-widgets/controls",
          "model_name": "DescriptionStyleModel",
          "model_module_version": "1.5.0",
          "state": {
            "_model_module": "@jupyter-widgets/controls",
            "_model_module_version": "1.5.0",
            "_model_name": "DescriptionStyleModel",
            "_view_count": null,
            "_view_module": "@jupyter-widgets/base",
            "_view_module_version": "1.2.0",
            "_view_name": "StyleView",
            "description_width": ""
          }
        },
        "e0a8f4f2e852437aa39eb30b096c167c": {
          "model_module": "@jupyter-widgets/base",
          "model_name": "LayoutModel",
          "model_module_version": "1.2.0",
          "state": {
            "_model_module": "@jupyter-widgets/base",
            "_model_module_version": "1.2.0",
            "_model_name": "LayoutModel",
            "_view_count": null,
            "_view_module": "@jupyter-widgets/base",
            "_view_module_version": "1.2.0",
            "_view_name": "LayoutView",
            "align_content": null,
            "align_items": null,
            "align_self": null,
            "border": null,
            "bottom": null,
            "display": null,
            "flex": null,
            "flex_flow": null,
            "grid_area": null,
            "grid_auto_columns": null,
            "grid_auto_flow": null,
            "grid_auto_rows": null,
            "grid_column": null,
            "grid_gap": null,
            "grid_row": null,
            "grid_template_areas": null,
            "grid_template_columns": null,
            "grid_template_rows": null,
            "height": null,
            "justify_content": null,
            "justify_items": null,
            "left": null,
            "margin": null,
            "max_height": null,
            "max_width": null,
            "min_height": null,
            "min_width": null,
            "object_fit": null,
            "object_position": null,
            "order": null,
            "overflow": null,
            "overflow_x": null,
            "overflow_y": null,
            "padding": null,
            "right": null,
            "top": null,
            "visibility": null,
            "width": null
          }
        },
        "2d6bcdeee08d4a7ba854495764ad99f7": {
          "model_module": "@jupyter-widgets/controls",
          "model_name": "ProgressStyleModel",
          "model_module_version": "1.5.0",
          "state": {
            "_model_module": "@jupyter-widgets/controls",
            "_model_module_version": "1.5.0",
            "_model_name": "ProgressStyleModel",
            "_view_count": null,
            "_view_module": "@jupyter-widgets/base",
            "_view_module_version": "1.2.0",
            "_view_name": "StyleView",
            "bar_color": null,
            "description_width": ""
          }
        },
        "c81deb539a7346b28c89eafdd4f92545": {
          "model_module": "@jupyter-widgets/base",
          "model_name": "LayoutModel",
          "model_module_version": "1.2.0",
          "state": {
            "_model_module": "@jupyter-widgets/base",
            "_model_module_version": "1.2.0",
            "_model_name": "LayoutModel",
            "_view_count": null,
            "_view_module": "@jupyter-widgets/base",
            "_view_module_version": "1.2.0",
            "_view_name": "LayoutView",
            "align_content": null,
            "align_items": null,
            "align_self": null,
            "border": null,
            "bottom": null,
            "display": null,
            "flex": null,
            "flex_flow": null,
            "grid_area": null,
            "grid_auto_columns": null,
            "grid_auto_flow": null,
            "grid_auto_rows": null,
            "grid_column": null,
            "grid_gap": null,
            "grid_row": null,
            "grid_template_areas": null,
            "grid_template_columns": null,
            "grid_template_rows": null,
            "height": null,
            "justify_content": null,
            "justify_items": null,
            "left": null,
            "margin": null,
            "max_height": null,
            "max_width": null,
            "min_height": null,
            "min_width": null,
            "object_fit": null,
            "object_position": null,
            "order": null,
            "overflow": null,
            "overflow_x": null,
            "overflow_y": null,
            "padding": null,
            "right": null,
            "top": null,
            "visibility": null,
            "width": null
          }
        },
        "7ee8402392c24c998b919ab1c4620157": {
          "model_module": "@jupyter-widgets/controls",
          "model_name": "DescriptionStyleModel",
          "model_module_version": "1.5.0",
          "state": {
            "_model_module": "@jupyter-widgets/controls",
            "_model_module_version": "1.5.0",
            "_model_name": "DescriptionStyleModel",
            "_view_count": null,
            "_view_module": "@jupyter-widgets/base",
            "_view_module_version": "1.2.0",
            "_view_name": "StyleView",
            "description_width": ""
          }
        }
      }
    }
  },
  "cells": [
    {
      "cell_type": "markdown",
      "source": [
        "# Equable triangles on grids"
      ],
      "metadata": {
        "id": "nsTodROl6pB6"
      }
    },
    {
      "cell_type": "markdown",
      "source": [
        "This notebook was used to find all equable triangles on a 2-dimensional grid. For more information about the theory used in this notebook, you can look at my [paper](https://eur03.safelinks.protection.outlook.com/?url=http%3A%2F%2Fresolver.tudelft.nl%2Fuuid%3Aec228956-de2a-4d2d-bac2-060ac9a6395e&data=05%7C02%7CL.deHoop%40student.tudelft.nl%7C687a469b0f174713f9d108dc9b606aaa%7C096e524d692940308cd38ab42de0887b%7C0%7C0%7C638556085601838698%7CUnknown%7CTWFpbGZsb3d8eyJWIjoiMC4wLjAwMDAiLCJQIjoiV2luMzIiLCJBTiI6Ik1haWwiLCJXVCI6Mn0%3D%7C0%7C%7C%7C&sdata=bVEOKn8bl%2FB0dFYJ17gNda5BvvqufKw%2FfZP8enoG2Ow%3D&reserved=0). We have limited ourselves to grids generated with unit length vectors that have an angle $\\theta \\in (0,\\pi/2]$ such that $\\cos(\\theta)$ is rational. For other angles, we can always find an equivalent lattice as specified in Example 2.14."
      ],
      "metadata": {
        "id": "6o5X-Un54925"
      }
    },
    {
      "cell_type": "markdown",
      "source": [
        "## Imports and Functions"
      ],
      "metadata": {
        "id": "uvDRY2xRwFh_"
      }
    },
    {
      "cell_type": "code",
      "execution_count": null,
      "metadata": {
        "id": "2U_VbvRygBur"
      },
      "outputs": [],
      "source": [
        "import numpy as np\n",
        "import math\n",
        "import sympy\n",
        "import matplotlib.pyplot as plt\n",
        "from tqdm.notebook import tqdm\n",
        "import pickle"
      ]
    },
    {
      "cell_type": "code",
      "source": [
        "def SideLength(p,q):\n",
        "    \"\"\"\n",
        "    Find all equable triangles of the form rn with n integral.\n",
        "    Args:\n",
        "        - p: the numerator of cos(theta).\n",
        "        - q: the denominator of cos(theta).\n",
        "    Returns:\n",
        "        - r: a sympy value, each equable triangle on this grid must have side lengths of the form rn with n integral.\n",
        "    \"\"\"\n",
        "    # reduce p and q such that they are co-prime\n",
        "    g = math.gcd(p,q)\n",
        "    p,q = p // g, q // g\n",
        "\n",
        "    # apply Theorem 3.6\n",
        "    u,v = 1, q**2 - p**2\n",
        "    d = 2\n",
        "    while d**2 <= v:\n",
        "        if v % d**2 == 0:\n",
        "            u,v = u*d, v // d**2\n",
        "        else:\n",
        "            d+=1\n",
        "    r = sympy.sqrt(v) / (q)\n",
        "\n",
        "    # apply Corollary 3.4 if possible\n",
        "    if q % 2 == 0:\n",
        "        r *= 2\n",
        "    return r"
      ],
      "metadata": {
        "id": "Hy_3zVmagLew"
      },
      "execution_count": null,
      "outputs": []
    },
    {
      "cell_type": "code",
      "source": [
        "def FindCandidates(r):\n",
        "    \"\"\"\n",
        "    Finds all equable triangles of the form rn with n integral.\n",
        "    Args:\n",
        "        - r: a sympy value, each side length is of the form rn with n integral.\n",
        "\n",
        "    Returns:\n",
        "        - candidates: a list of tuples, each tuple contains the 3 side lengths of the triangle as a sympy value.\n",
        "    \"\"\"\n",
        "\n",
        "    # r^2 must be rational\n",
        "    if not (r**2).is_rational:\n",
        "        return []\n",
        "\n",
        "    p = (r**2).numerator\n",
        "    candidates = []\n",
        "    if p % 16 != 0 :\n",
        "        # Use upper bounds from theorem A.1\n",
        "        u_upper = 2 / r * sympy.sqrt(3)\n",
        "        u = 1\n",
        "        while u <= u_upper:\n",
        "            v = u\n",
        "            v_upper = (4 + 2 * sympy.sqrt(4 + r**2*u**2)) / (r**2*u)\n",
        "            while v <= v_upper:\n",
        "                if r**2 * u * v - 4 > 0:\n",
        "                    w = 4*(u+v) / (r**2 * u * v - 4)\n",
        "                    if v <= w:\n",
        "                        if w.is_integer:\n",
        "                            a,b,c = r*(v+w), r*(u+w), r*(u+v)\n",
        "                            candidates.append((a,b,c))\n",
        "                v+=1\n",
        "            u+=1\n",
        "\n",
        "    else:\n",
        "        # Use upper bounds from theorem 3.12\n",
        "        x_upper = 4 / r * sympy.sqrt(3)\n",
        "        x = 1\n",
        "        while x <= x_upper:\n",
        "            y = x\n",
        "            y_upper = (16 + 4 * sympy.sqrt(16 + r**2*x**2)) / (r**2*x)\n",
        "            while y <= y_upper:\n",
        "                if r**2 * x * y - 16 > 0:\n",
        "                    z = 16*(x+y) / (r**2 * x * y - 16)\n",
        "                    if y <= z:\n",
        "                        if z.is_integer:\n",
        "                            # check if the same parity\n",
        "                            if x % 2 == y % 2 == z % 2:\n",
        "                                a,b,c = r/2*(y+z), r/2*(x+z), r/2*(x+y)\n",
        "                                candidates.append((a,b,c))\n",
        "                y+=1\n",
        "            x+=1\n",
        "\n",
        "    return candidates"
      ],
      "metadata": {
        "id": "NNroa5jqgMXH"
      },
      "execution_count": null,
      "outputs": []
    },
    {
      "cell_type": "code",
      "source": [
        "def IsPlaceable(triangle, cos_theta):\n",
        "    \"\"\"\n",
        "    Checks if a triangle is placeable on a grid generated by 1 and cos(theta) + sin(theta)*i.\n",
        "    Args:\n",
        "        - triangle: a tuple with 3 sympy values, these are the side lengths of the triangle we want to check.\n",
        "        - cos_theta: a sympy value for cos(theta).\n",
        "\n",
        "    Returns:\n",
        "        - placeable: boolean whether the triangle is placeable on the grid.\n",
        "    \"\"\"\n",
        "    # define sin_theta\n",
        "    sin_theta = sympy.sqrt(1 - cos_theta**2)\n",
        "    # sorts the side lengths to reduce search space.\n",
        "    triangle = sorted(triangle)\n",
        "\n",
        "    # finds all possible values for a1 and a2 to get the 1st length using Theorem 4.4\n",
        "    first_coord_options = []\n",
        "    a = triangle[0]\n",
        "    n = sympy.floor(a / sin_theta)\n",
        "    for a1 in range(sympy.floor(n)+1): # can ignore negative part because of 180 degree rotational symmetry\n",
        "        a2_plus = -a1*cos_theta + sympy.sqrt(a**2 - sin_theta**2 * a1**2)\n",
        "        if a2_plus.is_integer:\n",
        "            first_coord_options.append((a1,a2_plus))\n",
        "        a2_min = -a1*cos_theta - sympy.sqrt(a**2 - sin_theta**2 * a1**2)\n",
        "        if a2_min.is_integer:\n",
        "            first_coord_options.append((a1,a2_min))\n",
        "\n",
        "    # If side length a cannot be placed, triangle cannot be placed\n",
        "    if len(first_coord_options) == 0:\n",
        "        return False\n",
        "\n",
        "    # finds all possible values for b1 and b2 to get the 2nd length Theorem 4.4\n",
        "    second_coord_options = []\n",
        "    b = triangle[1]\n",
        "    n = sympy.floor(b / sin_theta)\n",
        "    for b1 in range(-sympy.floor(n),sympy.floor(n)+1):\n",
        "        b2_plus = -b1*cos_theta + sympy.sqrt(b**2 - sin_theta**2 * b1**2)\n",
        "        if b2_plus.is_integer:\n",
        "            second_coord_options.append((b1,b2_plus))\n",
        "        b2_min = -b1*cos_theta - sympy.sqrt(b**2 - sin_theta**2 * b1**2)\n",
        "        if b2_min.is_integer:\n",
        "            second_coord_options.append((b1,b2_min))\n",
        "\n",
        "    # If side length b cannot be placed, triangle cannot be placed\n",
        "    if len(second_coord_options) == 0:\n",
        "        return False\n",
        "\n",
        "    # try different combinations of (a1,a2) and (b1,b2) to see if they make the 3rd side length\n",
        "    c = triangle[2]\n",
        "    for (a1,a2) in first_coord_options:\n",
        "        for (b1,b2) in second_coord_options:\n",
        "            c_squared = (a1-b1)**2 + 2 * (a1-b1) * (a2-b2) * cos_theta + (a2-b2)**2\n",
        "            if c_squared == c**2:\n",
        "                return True\n",
        "\n",
        "    return False"
      ],
      "metadata": {
        "id": "URpSZT5RgSEY"
      },
      "execution_count": null,
      "outputs": []
    },
    {
      "cell_type": "code",
      "source": [
        "def TryGrid(p,q):\n",
        "    \"\"\"\n",
        "    Find all equable triangles in 3 steps:  1. Find constraint on side lengths.\n",
        "                                            2. Find equable triangles with that constraint.\n",
        "                                            3. Try to place triangles on the grid.\n",
        "    Grid is generated with 1 and cos(theta) + sin(theta)*i, with cos(theta)=p/q rational.\n",
        "\n",
        "    Args:\n",
        "        - p: numerator of cos(theta)\n",
        "        - q: denominator of cos(theta)\n",
        "\n",
        "    Returns:\n",
        "        - r: a sympy value, each side length is of the form rn with n integral.\n",
        "        - placeable_triangles: a list of tuples containing the side lengths of equable triangles placeable on the grid.\n",
        "        - candidates: a list of tuples containing the side lengths of candidate equable triangles.\n",
        "    \"\"\"\n",
        "    # find r\n",
        "    r = SideLength(p,q)\n",
        "\n",
        "    # find possible candidates\n",
        "    candidates = FindCandidates(r)\n",
        "\n",
        "    # try to place triangles on grid\n",
        "    placeable_triangles = []\n",
        "    for triangle in candidates:\n",
        "        if IsPlaceable(triangle, sympy.Rational(p,q)):\n",
        "            placeable_triangles.append(triangle)\n",
        "\n",
        "    return r, placeable_triangles, candidates"
      ],
      "metadata": {
        "id": "RCbStY7f4ueZ"
      },
      "execution_count": null,
      "outputs": []
    },
    {
      "cell_type": "markdown",
      "source": [
        "## Introduction\n"
      ],
      "metadata": {
        "id": "Ygp512QIwM2_"
      }
    },
    {
      "cell_type": "code",
      "source": [
        "# Change this depending on where the pickled file is located\n",
        "GRID_DICTIONARY_LOCATION = \"drive/MyDrive/Colab Notebooks/Grid_dictionary.pkl\"\n",
        "\n",
        "# load data\n",
        "with open(GRID_DICTIONARY_LOCATION, 'rb') as f:\n",
        "    grid_dict = pickle.load(f)\n",
        "print(\"Succesfully loaded the data.\")\n",
        "print(f\"The dictionary consists of {len(grid_dict.keys())} entries.\")"
      ],
      "metadata": {
        "colab": {
          "base_uri": "https://localhost:8080/"
        },
        "id": "yeDF-KJXwMTY",
        "outputId": "2053387a-92d7-4a19-e73e-f7f25db3c77c"
      },
      "execution_count": null,
      "outputs": [
        {
          "output_type": "stream",
          "name": "stdout",
          "text": [
            "Succesfully loaded the data.\n",
            "The dictionary consists of 3044 entries.\n"
          ]
        }
      ]
    },
    {
      "cell_type": "code",
      "source": [
        "## Check what equable triangles are possible on a certain grid with cos(theta) = p/q\n",
        "\n",
        "# Select p and q you want to see. Only valid for co-prime p,q in {1,...,100} with p<q\n",
        "p,q = 2,3\n",
        "g = math.gcd(p,q)\n",
        "p,q = p//g, q//g\n",
        "\n",
        "if (p,q) not in grid_dict.keys():\n",
        "    print(f\"{p,q} is not in the dictionary.\")\n",
        "else:\n",
        "    r, placeable_triangles, candidates = grid_dict[(p,q)]\n",
        "    print(f\"For cos(theta) = {p}/{q}, all equable triangles are of the form rn with n a natural number and r = {r}.\")\n",
        "    print(f\"There are {len(candidates)} equable triangles that satisfy this criteria.\")\n",
        "    print(f\"Out of these candidates, {len(placeable_triangles)} could be placed on the grid.\")\n",
        "    if len(placeable_triangles) > 0:\n",
        "        print(\"These are the placeable triangles:\")\n",
        "        for triangle in placeable_triangles:\n",
        "            print(triangle)"
      ],
      "metadata": {
        "colab": {
          "base_uri": "https://localhost:8080/"
        },
        "id": "1bCV9v9txzuv",
        "outputId": "7c8d7287-3404-4d77-8dc7-f24f9d45b4e0"
      },
      "execution_count": null,
      "outputs": [
        {
          "output_type": "stream",
          "name": "stdout",
          "text": [
            "For cos(theta) = 2/3, all equable triangles are of the form rn with n a natural number and r = sqrt(5)/3.\n",
            "There are 7 equable triangles that satisfy this criteria.\n",
            "Out of these candidates, 2 could be placed on the grid.\n",
            "These are the placeable triangles:\n",
            "(9*sqrt(5), 9*sqrt(5), 2*sqrt(5))\n",
            "(4*sqrt(5), 3*sqrt(5), 3*sqrt(5))\n"
          ]
        }
      ]
    },
    {
      "cell_type": "markdown",
      "source": [
        "## Tests for Integer and Eisenstein lattice"
      ],
      "metadata": {
        "id": "VYjTruxHxL1Q"
      }
    },
    {
      "cell_type": "code",
      "source": [
        "# Integer test\n",
        "p,q = 0,1\n",
        "cos_theta = sympy.Rational(p,q)\n",
        "\n",
        "# Find r\n",
        "r = SideLength(p,q)\n",
        "print(f\"For the integer lattice, all equable triangles are of the form rn with n a natural number and r = {r}.\")\n",
        "\n",
        "candidates = FindCandidates(r)\n",
        "print(f\"There are {len(candidates)} equable triangles that satisfy this criteria.\")\n",
        "\n",
        "placeable_triangles = []\n",
        "for triangle in candidates:\n",
        "    if IsPlaceable(triangle,cos_theta):\n",
        "        placeable_triangles.append(triangle)\n",
        "print(f\"Out of these candidates, {len(placeable_triangles)} could be placed on the grid.\")\n",
        "if len(placeable_triangles) > 0:\n",
        "    print(\"These are the placeable triangles:\")\n",
        "    for triangle in placeable_triangles:\n",
        "        print(triangle)\n",
        "r = SideLength(p,q)"
      ],
      "metadata": {
        "colab": {
          "base_uri": "https://localhost:8080/"
        },
        "id": "hcjc-T4exLeI",
        "outputId": "7dcb59fe-fc41-459b-829c-c1bdd21194b0"
      },
      "execution_count": null,
      "outputs": [
        {
          "output_type": "stream",
          "name": "stdout",
          "text": [
            "For the integer lattice, all equable triangles are of the form rn with n a natural number and r = 1.\n",
            "There are 5 equable triangles that satisfy this criteria.\n",
            "Out of these candidates, 5 could be placed on the grid.\n",
            "These are the placeable triangles:\n",
            "(29, 25, 6)\n",
            "(20, 15, 7)\n",
            "(17, 10, 9)\n",
            "(13, 12, 5)\n",
            "(10, 8, 6)\n"
          ]
        }
      ]
    },
    {
      "cell_type": "code",
      "source": [
        "# Eisenstein test\n",
        "p,q = 1,2\n",
        "cos_theta = sympy.Rational(p,q)\n",
        "\n",
        "# Find r\n",
        "r = SideLength(p,q)\n",
        "print(f\"For the Eisenstein lattice, all equable triangles are of the form rn with n a natural number and r = {r}.\")\n",
        "\n",
        "candidates = FindCandidates(r)\n",
        "print(f\"There are {len(candidates)} equable triangles that satisfy this criteria.\")\n",
        "\n",
        "placeable_triangles = []\n",
        "for triangle in candidates:\n",
        "    if IsPlaceable(triangle,cos_theta):\n",
        "        placeable_triangles.append(triangle)\n",
        "print(f\"Out of these candidates, {len(placeable_triangles)} could be placed on the grid.\")\n",
        "if len(placeable_triangles) > 0:\n",
        "    print(\"These are the placeable triangles:\")\n",
        "    for triangle in placeable_triangles:\n",
        "        print(triangle)\n",
        "r = SideLength(p,q)"
      ],
      "metadata": {
        "colab": {
          "base_uri": "https://localhost:8080/"
        },
        "id": "cCcUWUkIxTFw",
        "outputId": "94c80c47-f3ab-4603-bfe9-7bed0d7ad40d"
      },
      "execution_count": null,
      "outputs": [
        {
          "output_type": "stream",
          "name": "stdout",
          "text": [
            "For the integer lattice, all equable triangles are of the form rn with n a natural number and r = sqrt(3).\n",
            "There are 2 equable triangles that satisfy this criteria.\n",
            "Out of these candidates, 2 could be placed on the grid.\n",
            "These are the placeable triangles:\n",
            "(8*sqrt(3), 7*sqrt(3), 3*sqrt(3))\n",
            "(4*sqrt(3), 4*sqrt(3), 4*sqrt(3))\n"
          ]
        }
      ]
    },
    {
      "cell_type": "markdown",
      "source": [
        "## Checking for new grids"
      ],
      "metadata": {
        "id": "pjjC7_T_4RW7"
      }
    },
    {
      "cell_type": "code",
      "source": [
        "# Find the equable triangles for new values of (p,q)\n",
        "\n",
        "for q in tqdm(range(2,101)):\n",
        "    for p in range(q): # 0 <= p < q\n",
        "        # p and q must be co-prime\n",
        "        if math.gcd(p,q) == 1:\n",
        "            if (p,q) not in grid_dict.keys():\n",
        "                # Find equable triangles and add to dictionary\n",
        "                r, placeable_triangles, candidates = TryGrid(p,q)\n",
        "                grid_dict[(p,q)] = r, placeable_triangles, candidates\n",
        "\n",
        "                # Save if just finished a large batch in case of timeout error\n",
        "                if len(candidates) > 100:\n",
        "                    with open(GRID_DICTIONARY_LOCATION, 'wb') as f:\n",
        "                        pickle.dump(grid_dict, f)\n",
        "                    print(f\"Saved for {(p,q)} with {len(candidates)} triangles\")\n",
        "\n",
        "# Save data\n",
        "with open(GRID_DICTIONARY_LOCATION, 'wb') as f:\n",
        "    pickle.dump(grid_dict, f)"
      ],
      "metadata": {
        "colab": {
          "base_uri": "https://localhost:8080/",
          "height": 49,
          "referenced_widgets": [
            "096019e572c34458913765bf2c04e3ce",
            "2d6dc413b2e54139af4ede9b24ce052e",
            "e1f0e3d5ffc04eba839f9966e7b02696",
            "f836b13f809a432ea38e3deac7bd6293",
            "2d297708260d483c888181def6ef4fae",
            "250d6cb5356b4bed9a623fcb7764da77",
            "67999e25b5ab4724a671e1e93492d73a",
            "e0a8f4f2e852437aa39eb30b096c167c",
            "2d6bcdeee08d4a7ba854495764ad99f7",
            "c81deb539a7346b28c89eafdd4f92545",
            "7ee8402392c24c998b919ab1c4620157"
          ]
        },
        "id": "3FBltnvn4Zfy",
        "outputId": "5770e872-5924-4ef4-c451-3d083c99fe95"
      },
      "execution_count": null,
      "outputs": [
        {
          "output_type": "display_data",
          "data": {
            "text/plain": [
              "  0%|          | 0/99 [00:00<?, ?it/s]"
            ],
            "application/vnd.jupyter.widget-view+json": {
              "version_major": 2,
              "version_minor": 0,
              "model_id": "096019e572c34458913765bf2c04e3ce"
            }
          },
          "metadata": {}
        }
      ]
    },
    {
      "cell_type": "markdown",
      "source": [
        "# Observations\n"
      ],
      "metadata": {
        "id": "rcvC4BNm6nIi"
      }
    },
    {
      "cell_type": "code",
      "source": [
        "# Print all found equable triangles\n",
        "for (p,q) in grid_dict.keys():\n",
        "    r, placeable_triangles, candidates = grid_dict[(p,q)]\n",
        "    if len(placeable_triangles) > 0:\n",
        "        print(f\"Grid with cos(theta) = {p}/{q}\")\n",
        "        print(f\"r = {r}\")\n",
        "        print(f\"Has {len(candidates)} candidates\")\n",
        "        print(f\"All {len(placeable_triangles)} actually placeable triangles:\")\n",
        "        for t in placeable_triangles:\n",
        "            print(t)\n",
        "        print()"
      ],
      "metadata": {
        "colab": {
          "base_uri": "https://localhost:8080/"
        },
        "id": "u2KEe3Xa3sQZ",
        "outputId": "cccf755e-3856-4e90-bdb3-099418491b71"
      },
      "execution_count": null,
      "outputs": [
        {
          "output_type": "stream",
          "name": "stdout",
          "text": [
            "Grid with cos(theta) = 0/1\n",
            "r = 1\n",
            "Has 5 candidates\n",
            "All 5 actually placeable triangles:\n",
            "(29, 25, 6)\n",
            "(20, 15, 7)\n",
            "(17, 10, 9)\n",
            "(13, 12, 5)\n",
            "(10, 8, 6)\n",
            "\n",
            "Grid with cos(theta) = 1/2\n",
            "r = sqrt(3)\n",
            "Has 2 candidates\n",
            "All 2 actually placeable triangles:\n",
            "(8*sqrt(3), 7*sqrt(3), 3*sqrt(3))\n",
            "(4*sqrt(3), 4*sqrt(3), 4*sqrt(3))\n",
            "\n",
            "Grid with cos(theta) = 1/3\n",
            "r = sqrt(2)/3\n",
            "Has 17 candidates\n",
            "All 1 actually placeable triangles:\n",
            "(6*sqrt(2), 6*sqrt(2), 4*sqrt(2))\n",
            "\n",
            "Grid with cos(theta) = 2/3\n",
            "r = sqrt(5)/3\n",
            "Has 7 candidates\n",
            "All 2 actually placeable triangles:\n",
            "(9*sqrt(5), 9*sqrt(5), 2*sqrt(5))\n",
            "(4*sqrt(5), 3*sqrt(5), 3*sqrt(5))\n",
            "\n",
            "Grid with cos(theta) = 3/5\n",
            "r = 1/5\n",
            "Has 52 candidates\n",
            "All 5 actually placeable triangles:\n",
            "(29, 25, 6)\n",
            "(20, 15, 7)\n",
            "(17, 10, 9)\n",
            "(13, 12, 5)\n",
            "(10, 8, 6)\n",
            "\n",
            "Grid with cos(theta) = 4/5\n",
            "r = 1/5\n",
            "Has 52 candidates\n",
            "All 5 actually placeable triangles:\n",
            "(29, 25, 6)\n",
            "(20, 15, 7)\n",
            "(17, 10, 9)\n",
            "(13, 12, 5)\n",
            "(10, 8, 6)\n",
            "\n",
            "Grid with cos(theta) = 1/9\n",
            "r = sqrt(5)/9\n",
            "Has 27 candidates\n",
            "All 1 actually placeable triangles:\n",
            "(58*sqrt(5)/3, 56*sqrt(5)/3, 2*sqrt(5))\n",
            "\n",
            "Grid with cos(theta) = 5/13\n",
            "r = 1/13\n",
            "Has 96 candidates\n",
            "All 2 actually placeable triangles:\n",
            "(20, 15, 7)\n",
            "(13, 12, 5)\n",
            "\n",
            "Grid with cos(theta) = 12/13\n",
            "r = 1/13\n",
            "Has 96 candidates\n",
            "All 2 actually placeable triangles:\n",
            "(29, 25, 6)\n",
            "(13, 12, 5)\n",
            "\n",
            "Grid with cos(theta) = 15/17\n",
            "r = 1/17\n",
            "Has 116 candidates\n",
            "All 2 actually placeable triangles:\n",
            "(17, 10, 9)\n",
            "(10, 8, 6)\n",
            "\n",
            "Grid with cos(theta) = 7/25\n",
            "r = 1/25\n",
            "Has 228 candidates\n",
            "All 13 actually placeable triangles:\n",
            "(10301/5, 10201/5, 102/5)\n",
            "(629/5, 101, 126/5)\n",
            "(1402/5, 1352/5, 54/5)\n",
            "(754/5, 702/5, 56/5)\n",
            "(226/5, 152/5, 78/5)\n",
            "(202/5, 104/5, 102/5)\n",
            "(776/5, 754/5, 6)\n",
            "(104/5, 58/5, 54/5)\n",
            "(29, 25, 6)\n",
            "(318/5, 306/5, 24/5)\n",
            "(78/5, 56/5, 34/5)\n",
            "(10, 8, 6)\n",
            "(39/5, 39/5, 6)\n",
            "\n",
            "Grid with cos(theta) = 24/25\n",
            "r = 1/25\n",
            "Has 228 candidates\n",
            "All 8 actually placeable triangles:\n",
            "(2729/5, 2626/5, 21)\n",
            "(629/5, 101, 126/5)\n",
            "(754/5, 702/5, 56/5)\n",
            "(313/5, 252/5, 13)\n",
            "(229/5, 156/5, 77/5)\n",
            "(20, 15, 7)\n",
            "(78/5, 56/5, 34/5)\n",
            "(538/5, 533/5, 21/5)\n",
            "\n",
            "Grid with cos(theta) = 21/29\n",
            "r = 1/29\n",
            "Has 134 candidates\n",
            "All 1 actually placeable triangles:\n",
            "(29, 25, 6)\n",
            "\n",
            "Grid with cos(theta) = 35/37\n",
            "r = 1/37\n",
            "Has 139 candidates\n",
            "All 2 actually placeable triangles:\n",
            "(20, 15, 7)\n",
            "(13, 12, 5)\n",
            "\n",
            "Grid with cos(theta) = 49/81\n",
            "r = sqrt(65)/81\n",
            "Has 8 candidates\n",
            "All 1 actually placeable triangles:\n",
            "(1949*sqrt(65)/9, 1945*sqrt(65)/9, 2*sqrt(65)/3)\n",
            "\n",
            "Grid with cos(theta) = 77/85\n",
            "r = 1/85\n",
            "Has 698 candidates\n",
            "All 1 actually placeable triangles:\n",
            "(17, 10, 9)\n",
            "\n"
          ]
        }
      ]
    },
    {
      "cell_type": "markdown",
      "source": [
        "## Integer sided equable triangles"
      ],
      "metadata": {
        "id": "QksQjAvSAdoj"
      }
    },
    {
      "cell_type": "markdown",
      "source": [
        "For the equable triangles with integer side length to be placeable on a grid, we found that the pair $(p,q)$ such that $\\cos(\\theta)=\\frac{p}{q}$ must be part of a Pythagorean triple. With this, we can more efficiently look for grids on which the equable triangles can be placed."
      ],
      "metadata": {
        "id": "0Zw-sXIbAiCY"
      }
    },
    {
      "cell_type": "code",
      "source": [
        "# Generate a list of Pythagorean pairs such that the largest value(hypotenuse) is < 1000\n",
        "max_value = 1000\n",
        "\n",
        "mn_bounds = math.ceil(math.sqrt(max_value))\n",
        "pythagorean_pairs = []\n",
        "for n in range(1,mn_bounds):\n",
        "    for m in range(n+1,mn_bounds):\n",
        "        if math.gcd(n,m) == 1:\n",
        "            if n % 2 != m % 2:\n",
        "                x,y,z = m**2-n**2, 2*m*n, m**2+n**2\n",
        "                if z <= max_value:\n",
        "                    pythagorean_pairs.append((x,z))\n",
        "                    pythagorean_pairs.append((y,z))\n",
        "\n",
        "pythagorean_pairs.sort(key=lambda a: a[1])\n",
        "print(pythagorean_pairs)"
      ],
      "metadata": {
        "colab": {
          "base_uri": "https://localhost:8080/"
        },
        "id": "dKWkUoPc7vOy",
        "outputId": "75f30663-7567-48e9-8506-8e5f8ba849e5"
      },
      "execution_count": null,
      "outputs": [
        {
          "output_type": "stream",
          "name": "stdout",
          "text": [
            "[(3, 5), (4, 5), (5, 13), (12, 13), (15, 17), (8, 17), (7, 25), (24, 25), (21, 29), (20, 29), (35, 37), (12, 37), (9, 41), (40, 41), (45, 53), (28, 53), (11, 61), (60, 61), (63, 65), (16, 65), (33, 65), (56, 65), (55, 73), (48, 73), (77, 85), (36, 85), (13, 85), (84, 85), (39, 89), (80, 89), (65, 97), (72, 97), (99, 101), (20, 101), (91, 109), (60, 109), (15, 113), (112, 113), (117, 125), (44, 125), (105, 137), (88, 137), (143, 145), (24, 145), (17, 145), (144, 145), (51, 149), (140, 149), (85, 157), (132, 157), (119, 169), (120, 169), (165, 173), (52, 173), (19, 181), (180, 181), (153, 185), (104, 185), (57, 185), (176, 185), (95, 193), (168, 193), (195, 197), (28, 197), (187, 205), (84, 205), (133, 205), (156, 205), (171, 221), (140, 221), (21, 221), (220, 221), (221, 229), (60, 229), (105, 233), (208, 233), (209, 241), (120, 241), (255, 257), (32, 257), (247, 265), (96, 265), (23, 265), (264, 265), (69, 269), (260, 269), (115, 277), (252, 277), (231, 281), (160, 281), (161, 289), (240, 289), (285, 293), (68, 293), (273, 305), (136, 305), (207, 305), (224, 305), (25, 313), (312, 313), (75, 317), (308, 317), (323, 325), (36, 325), (253, 325), (204, 325), (175, 337), (288, 337), (299, 349), (180, 349), (225, 353), (272, 353), (357, 365), (76, 365), (27, 365), (364, 365), (275, 373), (252, 373), (345, 377), (152, 377), (135, 377), (352, 377), (189, 389), (340, 389), (325, 397), (228, 397), (399, 401), (40, 401), (391, 409), (120, 409), (29, 421), (420, 421), (297, 425), (304, 425), (87, 425), (416, 425), (145, 433), (408, 433), (437, 445), (84, 445), (203, 445), (396, 445), (351, 449), (280, 449), (425, 457), (168, 457), (261, 461), (380, 461), (319, 481), (360, 481), (31, 481), (480, 481), (483, 485), (44, 485), (93, 485), (476, 485), (475, 493), (132, 493), (155, 493), (468, 493), (377, 505), (336, 505), (217, 505), (456, 505), (459, 509), (220, 509), (279, 521), (440, 521), (525, 533), (92, 533), (435, 533), (308, 533), (341, 541), (420, 541), (513, 545), (184, 545), (33, 545), (544, 545), (165, 557), (532, 557), (493, 565), (276, 565), (403, 565), (396, 565), (231, 569), (520, 569), (575, 577), (48, 577), (465, 593), (368, 593), (551, 601), (240, 601), (35, 613), (612, 613), (105, 617), (608, 617), (527, 625), (336, 625), (621, 629), (100, 629), (429, 629), (460, 629), (609, 641), (200, 641), (315, 653), (572, 653), (589, 661), (300, 661), (385, 673), (552, 673), (675, 677), (52, 677), (667, 685), (156, 685), (37, 685), (684, 685), (561, 689), (400, 689), (111, 689), (680, 689), (455, 697), (528, 697), (185, 697), (672, 697), (651, 701), (260, 701), (259, 709), (660, 709), (627, 725), (364, 725), (333, 725), (644, 725), (725, 733), (108, 733), (713, 745), (216, 745), (407, 745), (624, 745), (595, 757), (468, 757), (39, 761), (760, 761), (481, 769), (600, 769), (195, 773), (748, 773), (783, 785), (56, 785), (273, 785), (736, 785), (775, 793), (168, 793), (665, 793), (432, 793), (555, 797), (572, 797), (759, 809), (280, 809), (429, 821), (700, 821), (629, 829), (540, 829), (41, 841), (840, 841), (837, 845), (116, 845), (123, 845), (836, 845), (205, 853), (828, 853), (825, 857), (232, 857), (703, 865), (504, 865), (287, 865), (816, 865), (805, 877), (348, 877), (369, 881), (800, 881), (899, 901), (60, 901), (451, 901), (780, 901), (777, 905), (464, 905), (663, 905), (616, 905), (533, 925), (756, 925), (43, 925), (924, 925), (129, 929), (920, 929), (215, 937), (912, 937), (741, 941), (580, 941), (851, 949), (420, 949), (301, 949), (900, 949), (615, 953), (728, 953), (957, 965), (124, 965), (387, 965), (884, 965), (945, 977), (248, 977), (697, 985), (696, 985), (473, 985), (864, 985), (925, 997), (372, 997)]\n"
          ]
        }
      ]
    },
    {
      "cell_type": "code",
      "source": [
        "# Check for each integer equable triangle if they can be placed on a grid formed by a Pythagorean pair.\n",
        "integer_triangles = [(10, 8, 6), (13, 12, 5), (17, 10, 9), (20, 15, 7), (29, 25, 6)]\n",
        "\n",
        "for triangle in integer_triangles:\n",
        "    print(f\"Triangle {triangle} can be placed on the grids:\")\n",
        "    for (p,q) in pythagorean_pairs:\n",
        "        if IsPlaceable(triangle,sympy.Rational(p,q)):\n",
        "            print(f\"{p}/{q}\")\n",
        "    print()"
      ],
      "metadata": {
        "colab": {
          "base_uri": "https://localhost:8080/"
        },
        "id": "t3Qd9Mk57_uA",
        "outputId": "52b8b294-b82b-4908-c4e7-159dcc08ccb0"
      },
      "execution_count": null,
      "outputs": [
        {
          "output_type": "stream",
          "name": "stdout",
          "text": [
            "Triangle (10, 8, 6) can be placed on the grids:\n",
            "3/5\n",
            "4/5\n",
            "15/17\n",
            "7/25\n",
            "143/145\n",
            "\n",
            "Triangle (13, 12, 5) can be placed on the grids:\n",
            "3/5\n",
            "4/5\n",
            "5/13\n",
            "12/13\n",
            "35/37\n",
            "\n",
            "Triangle (17, 10, 9) can be placed on the grids:\n",
            "3/5\n",
            "4/5\n",
            "15/17\n",
            "77/85\n",
            "323/325\n",
            "\n",
            "Triangle (20, 15, 7) can be placed on the grids:\n",
            "3/5\n",
            "4/5\n",
            "5/13\n",
            "24/25\n",
            "35/37\n",
            "220/221\n",
            "\n",
            "Triangle (29, 25, 6) can be placed on the grids:\n",
            "3/5\n",
            "4/5\n",
            "12/13\n",
            "7/25\n",
            "21/29\n",
            "99/101\n",
            "143/145\n",
            "\n"
          ]
        }
      ]
    },
    {
      "cell_type": "markdown",
      "source": [
        "## Constraints on side lengths"
      ],
      "metadata": {
        "id": "jEyIIFZoBE1B"
      }
    },
    {
      "cell_type": "markdown",
      "source": [
        "This code was used to create Figures 5.1 and 5.2"
      ],
      "metadata": {
        "id": "3RfueOKrcXiQ"
      }
    },
    {
      "cell_type": "code",
      "source": [
        "# Figure 5.1\n",
        "r_values = []\n",
        "cos_values = []\n",
        "for (p,q) in grid_dict.keys():\n",
        "    r, placeable_triangles, candidates = grid_dict[(p,q)]\n",
        "    # if q % 2 == 0:\n",
        "    #     r /= 2\n",
        "    r_values.append(r)\n",
        "    cos_values.append(p / q)\n",
        "plt.scatter(cos_values,r_values,s=0.8)\n",
        "\n",
        "plt.xlabel(\"cos(theta)\")\n",
        "plt.ylabel(\"r\")\n",
        "plt.show()"
      ],
      "metadata": {
        "colab": {
          "base_uri": "https://localhost:8080/",
          "height": 449
        },
        "id": "DqLDSZS7UrpA",
        "outputId": "13fc2e4f-cbfa-426c-95bf-4a1896f9b1da"
      },
      "execution_count": null,
      "outputs": [
        {
          "output_type": "display_data",
          "data": {
            "text/plain": [
              "<Figure size 640x480 with 1 Axes>"
            ],
            "image/png": "[encoded data removed]"
          },
          "metadata": {}
        }
      ]
    },
    {
      "cell_type": "code",
      "source": [
        "# Figure 5.2\n",
        "\n",
        "# Plot first few lines\n",
        "X = np.linspace(0,1,500)\n",
        "for u in range(1,20):\n",
        "    Y = [2*np.sqrt(1-x**2)/u for x in X]\n",
        "    plt.plot(X,Y, color='red', linestyle='-',linewidth=1)\n",
        "\n",
        "plt.scatter(cos_values,r_values,s=1)\n",
        "plt.xlabel('cos(theta)')\n",
        "plt.ylabel('r')\n",
        "plt.yscale(\"log\")\n",
        "plt.ylim(0.1,None)\n",
        "plt.show()"
      ],
      "metadata": {
        "id": "MUVZkK_XcuYy",
        "colab": {
          "base_uri": "https://localhost:8080/",
          "height": 449
        },
        "outputId": "17af808d-b7ae-4b20-e131-c43819636841"
      },
      "execution_count": null,
      "outputs": [
        {
          "output_type": "display_data",
          "data": {
            "text/plain": [
              "<Figure size 640x480 with 1 Axes>"
            ],
            "image/png": "[encoded data removed]"
          },
          "metadata": {}
        }
      ]
    }
  ]
}